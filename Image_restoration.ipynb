{
  "nbformat": 4,
  "nbformat_minor": 0,
  "metadata": {
    "colab": {
      "provenance": [],
      "authorship_tag": "ABX9TyN21AkReX5et9NFpaXZPeOE",
      "include_colab_link": true
    },
    "kernelspec": {
      "name": "python3",
      "display_name": "Python 3"
    },
    "language_info": {
      "name": "python"
    }
  },
  "cells": [
    {
      "cell_type": "markdown",
      "metadata": {
        "id": "view-in-github",
        "colab_type": "text"
      },
      "source": [
        "<a href=\"https://colab.research.google.com/github/JEETMANISHBOBDE/Image-Restoration/blob/main/Image_restoration.ipynb\" target=\"_parent\"><img src=\"https://colab.research.google.com/assets/colab-badge.svg\" alt=\"Open In Colab\"/></a>"
      ]
    },
    {
      "cell_type": "code",
      "source": [
        "import cv2\n",
        "import numpy as np\n",
        "import matplotlib.pyplot as plt\n",
        "import os\n",
        "\n",
        "#  Verify the manually uploaded image path\n",
        "file_path = \"/content/baby.png\"  # Change the filename if different\n",
        "\n",
        "#  Check if the file exists\n",
        "if os.path.exists(file_path):\n",
        "    print(\"File found:\", file_path)\n",
        "\n",
        "    # Load and preprocess the image\n",
        "    img = cv2.imread(file_path)\n",
        "\n",
        "    if img is not None:\n",
        "        img = cv2.cvtColor(img, cv2.COLOR_BGR2RGB)\n",
        "        img = cv2.resize(img, (128, 128))  # Resize to match the model input shape\n",
        "\n",
        "        # Display the image\n",
        "        plt.imshow(img)\n",
        "        plt.axis('off')\n",
        "        plt.title(\"Uploaded Image\")\n",
        "        plt.show()\n",
        "\n",
        "        # Prepare the image for model input\n",
        "        img = img.astype('float32') / 255.0  # Normalize to [0, 1]\n",
        "        img = np.expand_dims(img, axis=0)    # Add batch dimension (1, 128, 128, 3)\n",
        "\n",
        "    else:\n",
        "        print(\"Error: Could not load image.\")\n",
        "else:\n",
        "    print(\"File not found. Please upload it manually in Colab.\")"
      ],
      "metadata": {
        "colab": {
          "base_uri": "https://localhost:8080/"
        },
        "id": "_CeKMvrNK4L_",
        "outputId": "e111e65a-ae1e-4afb-eac2-88da7607c001"
      },
      "execution_count": 1,
      "outputs": [
        {
          "output_type": "stream",
          "name": "stdout",
          "text": [
            "File not found. Please upload it manually in Colab.\n"
          ]
        }
      ]
    },
    {
      "cell_type": "code",
      "source": [],
      "metadata": {
        "id": "8VfOQkirLPOb"
      },
      "execution_count": null,
      "outputs": []
    }
  ]
}