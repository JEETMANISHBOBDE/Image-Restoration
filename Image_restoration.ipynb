{
  "nbformat": 4,
  "nbformat_minor": 0,
  "metadata": {
    "colab": {
      "provenance": [],
      "authorship_tag": "ABX9TyOcvvAkVMQRiKfRg86z/15Q",
      "include_colab_link": true
    },
    "kernelspec": {
      "name": "python3",
      "display_name": "Python 3"
    },
    "language_info": {
      "name": "python"
    }
  },
  "cells": [
    {
      "cell_type": "markdown",
      "metadata": {
        "id": "view-in-github",
        "colab_type": "text"
      },
      "source": [
        "<a href=\"https://colab.research.google.com/github/JEETMANISHBOBDE/Image-Restoration/blob/main/Image_restoration.ipynb\" target=\"_parent\"><img src=\"https://colab.research.google.com/assets/colab-badge.svg\" alt=\"Open In Colab\"/></a>"
      ]
    },
    {
      "cell_type": "code",
      "source": [
        "from google.colab import files\n",
        "import zipfile\n",
        "import io\n",
        "import os\n",
        "\n",
        "# Upload file(s)\n",
        "uploaded = files.upload()\n",
        "\n",
        "# Create a directory to store the data\n",
        "data_dir = 'data'\n",
        "if not os.path.exists(data_dir):\n",
        "    os.makedirs(data_dir)\n",
        "\n",
        "# Process each uploaded file\n",
        "for file_name in uploaded.keys():\n",
        "    print(f'Uploaded file: {file_name}')\n",
        "    if file_name.endswith('.zip'):\n",
        "        # If the file is a zip file, extract its contents\n",
        "        with zipfile.ZipFile(io.BytesIO(uploaded[file_name]), 'r') as zip_ref:\n",
        "            zip_ref.extractall(data_dir)\n",
        "        print(f'Extracted {file_name} into the \"{data_dir}\" folder.')\n",
        "    else:\n",
        "        # If it's not a zip file, save it directly into the data directory\n",
        "        with open(os.path.join(data_dir, file_name), 'wb') as f:\n",
        "            f.write(uploaded[file_name])\n",
        "        print(f'Saved {file_name} into the \"{data_dir}\" folder.')\n"
      ],
      "metadata": {
        "id": "tTmi9oXAF9qo"
      },
      "execution_count": null,
      "outputs": []
    },
    {
      "cell_type": "code",
      "source": [],
      "metadata": {
        "id": "Sb6gaxZDGDiz"
      },
      "execution_count": null,
      "outputs": []
    }
  ]
}