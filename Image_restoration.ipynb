{
  "nbformat": 4,
  "nbformat_minor": 0,
  "metadata": {
    "colab": {
      "provenance": [],
      "authorship_tag": "ABX9TyNJ8QktcG7gA0dwLLCVT/5B",
      "include_colab_link": true
    },
    "kernelspec": {
      "name": "python3",
      "display_name": "Python 3"
    },
    "language_info": {
      "name": "python"
    }
  },
  "cells": [
    {
      "cell_type": "markdown",
      "metadata": {
        "id": "view-in-github",
        "colab_type": "text"
      },
      "source": [
        "<a href=\"https://colab.research.google.com/github/JEETMANISHBOBDE/Image-Restoration/blob/main/Image_restoration.ipynb\" target=\"_parent\"><img src=\"https://colab.research.google.com/assets/colab-badge.svg\" alt=\"Open In Colab\"/></a>"
      ]
    },
    {
      "cell_type": "code",
      "source": [
        "import cv2\n",
        "import numpy as np\n",
        "import matplotlib.pyplot as plt\n",
        "import os\n",
        "\n",
        "# ✅ Verify the manually uploaded image path\n",
        "file_path = \"/content/baby.png\"  # Change the filename if different\n",
        "\n",
        "# ✅ Check if the file exists\n",
        "if os.path.exists(file_path):\n",
        "    print(\"File found:\", file_path)\n",
        "\n",
        "    # Load and preprocess the image\n",
        "    img = cv2.imread(file_path)\n",
        "\n",
        "    if img is not None:\n",
        "        img = cv2.cvtColor(img, cv2.COLOR_BGR2RGB)\n",
        "        img = cv2.resize(img, (128, 128))  # Resize to match the model input shape"
      ],
      "metadata": {
        "id": "_CeKMvrNK4L_"
      },
      "execution_count": null,
      "outputs": []
    }
  ]
}